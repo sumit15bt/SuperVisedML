{
 "cells": [
  {
   "cell_type": "code",
   "execution_count": 9,
   "metadata": {},
   "outputs": [
    {
     "name": "stdout",
     "output_type": "stream",
     "text": [
      "<h1>Beautiful Soup Documentation<a class=\"headerlink\" href=\"#beautiful-soup-documentation\" title=\"Permalink to this headline\">¶</a></h1>\n"
     ]
    }
   ],
   "source": [
    "from urllib.request import urlopen\n",
    "from urllib.error import HTTPError\n",
    "from bs4  import BeautifulSoup\n",
    "\n",
    "def  getTitle(url):\n",
    "        try:\n",
    "            html=urlopen(url)\n",
    "        except HTTPError  as e:\n",
    "            return None\n",
    "        try:\n",
    "            bsobj=BeautifulSoup(html.read(),'html5lib')\n",
    "            title=bsobj.body.h1\n",
    "        except AttributeError as e:\n",
    "            return None\n",
    "        return title\n",
    "\n",
    "tittle=getTitle(\"https://www.crummy.com/software/BeautifulSoup/bs4/doc/\")\n",
    "\n",
    "if tittle==None:\n",
    "    print(\"Title coud not  be  found\")\n",
    "else:\n",
    "    print(tittle)\n"
   ]
  },
  {
   "cell_type": "code",
   "execution_count": null,
   "metadata": {},
   "outputs": [],
   "source": []
  }
 ],
 "metadata": {
  "kernelspec": {
   "display_name": "Python 3",
   "language": "python",
   "name": "python3"
  },
  "language_info": {
   "codemirror_mode": {
    "name": "ipython",
    "version": 3
   },
   "file_extension": ".py",
   "mimetype": "text/x-python",
   "name": "python",
   "nbconvert_exporter": "python",
   "pygments_lexer": "ipython3",
   "version": "3.6.3"
  }
 },
 "nbformat": 4,
 "nbformat_minor": 2
}
