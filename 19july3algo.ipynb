{
 "cells": [
  {
   "cell_type": "code",
   "execution_count": 23,
   "metadata": {},
   "outputs": [
    {
     "name": "stdout",
     "output_type": "stream",
     "text": [
      "[0 2 1 1 2 0 0 2 2 0 1 1 0 2 1]\n",
      "[0 2 1 1 2 0 0 2 2 0 1 1 0 2 1]\n",
      "[0 2 1 1 2 0 0 2 2 0 1 1 0 2 1]\n",
      "[0 2 1 1 2 0 0 1 2 0 1 1 0 2 1]\n",
      "0.9333333333333333\n",
      "0.9333333333333333\n",
      "0.9333333333333333\n"
     ]
    },
    {
     "data": {
      "image/png": "[encoded data removed]",
      "text/plain": [
       "<Figure size 432x288 with 1 Axes>"
      ]
     },
     "metadata": {},
     "output_type": "display_data"
    }
   ],
   "source": [
    "from sklearn.datasets import load_iris\n",
    "from sklearn import  tree\n",
    "from sklearn  import svm\n",
    "from sklearn.neighbors import  KNeighborsClassifier\n",
    "from sklearn.model_selection  import train_test_split\n",
    "from sklearn.metrics import accuracy_score\n",
    "\n",
    "import matplotlib.pyplot as plt\n",
    "\n",
    "#data loading\n",
    "iris=load_iris()\n",
    "\n",
    "#  NOW SPLITING  \n",
    "train_iris,test_iris,train_target,test_target=train_test_split(iris.data,iris.target,test_size=0.1)\n",
    "\n",
    "#  train_iris  and  train_target data will be using under fit method\n",
    "\n",
    "#  calling  DecisionTree  classifier\n",
    "clf=tree.DecisionTreeClassifier()\n",
    "knn=KNeighborsClassifier()\n",
    "svmclf=svm.SVC()\n",
    "# now training  data\n",
    "trained=clf.fit(train_iris,train_target)\n",
    "trained2=knn.fit(train_iris,train_target)\n",
    "trained3=svmclf.fit(train_iris,train_target)\n",
    "#  test with test_iris \n",
    "output=trained.predict(test_iris)\n",
    "output2=trained2.predict(test_iris)\n",
    "output3=trained3.predict(test_iris)\n",
    "print(output)\n",
    "print(output2)\n",
    "print(output3)\n",
    "# actual output \n",
    "print(test_target)\n",
    "\n",
    "# calculating  accuracy score\n",
    "pct=accuracy_score(test_target,output)\n",
    "pct2=accuracy_score(test_target,output2)\n",
    "pct3=accuracy_score(test_target,output3)\n",
    "\n",
    "print(pct)\n",
    "print(pct2)\n",
    "print(pct3)\n",
    "\n",
    "acc=[pct,pct2,pct3]\n",
    "algo=[\"Tree\",\"KNN\",\"SVM\"]\n",
    "plt.xlabel(\"Different algorithms classifiers--->\")\n",
    "plt.ylabel(\"Algorithms  accuracy --->\")\n",
    "plt.title(\"Algorithms  Accuracy\" )\n",
    "plt.grid(color='grey')\n",
    "plt.bar(algo,acc)\n",
    "plt.show()"
   ]
  },
  {
   "cell_type": "code",
   "execution_count": null,
   "metadata": {},
   "outputs": [],
   "source": []
  }
 ],
 "metadata": {
  "kernelspec": {
   "display_name": "Python 3",
   "language": "python",
   "name": "python3"
  },
  "language_info": {
   "codemirror_mode": {
    "name": "ipython",
    "version": 3
   },
   "file_extension": ".py",
   "mimetype": "text/x-python",
   "name": "python",
   "nbconvert_exporter": "python",
   "pygments_lexer": "ipython3",
   "version": "3.6.3"
  }
 },
 "nbformat": 4,
 "nbformat_minor": 2
}
