{
 "cells": [
  {
   "cell_type": "code",
   "execution_count": 22,
   "metadata": {},
   "outputs": [
    {
     "name": "stderr",
     "output_type": "stream",
     "text": [
      "/usr/local/lib/python3.6/dist-packages/ipykernel_launcher.py:20: FutureWarning: in the future negative indices will not be ignored by `numpy.delete`.\n",
      "/usr/local/lib/python3.6/dist-packages/ipykernel_launcher.py:22: FutureWarning: in the future negative indices will not be ignored by `numpy.delete`.\n"
     ]
    },
    {
     "name": "stdout",
     "output_type": "stream",
     "text": [
      "Enter the index value to predict for prediction (<1797) : 766\n",
      "predicted digit is : [5]\n",
      "orignal digit is : 5\n"
     ]
    },
    {
     "data": {
      "image/png": "[encoded data removed]",
      "text/plain": [
       "<Figure size 432x288 with 1 Axes>"
      ]
     },
     "metadata": {},
     "output_type": "display_data"
    }
   ],
   "source": [
    "from sklearn.datasets import load_digits\n",
    "from sklearn.svm import SVC\n",
    "import numpy  as np\n",
    "import matplotlib.pyplot as plt \n",
    "\n",
    "\"\"\"\n",
    "for finding particular  datasets in sklearn datasets  ---\n",
    "\n",
    "for  dataset in dir(datasets):\n",
    "    if 'iris' in dataset\n",
    "        data=________\n",
    "\n",
    "\"\"\"\n",
    "dta_remove_index=[-1,18,-6,9]\n",
    "\n",
    "#loading required data\n",
    "digit=load_digits()\n",
    "\n",
    "#required training data\n",
    "td_orignal=np.delete(digit.data,dta_remove_index,axis=0)\n",
    "#target  data\n",
    "tt_orignal=np.delete(digit.target,dta_remove_index)\n",
    "\n",
    "# use of svm algo\n",
    "clf=SVC() #svm.SVC()   algo. initialisation\n",
    "\n",
    "#training algo..\n",
    "trained=clf.fit(td_orignal,tt_orignal)\n",
    "\n",
    "#prediction by algo. used \n",
    "\n",
    "#taking index value---------------\n",
    "index=int(input(\"Enter the index value to predict for prediction (<1797) : \"))\n",
    "\n",
    "pred=trained.predict(digit.data[index].reshape(1,64)) #reshape because returne_data will come in form  8*8 shape\n",
    "\n",
    "print(\"predicted digit is : {}\".format(pred))\n",
    "\n",
    "\n",
    "print(\"orignal digit is : {}\".format(digit.target[index]))\n",
    "plt.imshow(digit.images[index])\n",
    "plt.show()\n",
    "\n",
    "\n"
   ]
  },
  {
   "cell_type": "code",
   "execution_count": 20,
   "metadata": {},
   "outputs": [
    {
     "name": "stdout",
     "output_type": "stream",
     "text": [
      "Enter the index value to predict for prediction  : 27\n",
      "predicted digit is : [7]\n",
      "orignal digit is : 7\n"
     ]
    },
    {
     "data": {
      "image/png": "[encoded data removed]",
      "text/plain": [
       "<Figure size 432x288 with 1 Axes>"
      ]
     },
     "metadata": {},
     "output_type": "display_data"
    }
   ],
   "source": [
    "from sklearn.datasets import load_digits\n",
    "from sklearn.svm import SVC\n",
    "import numpy  as np\n",
    "from sklearn.model_selection  import train_test_split\n",
    "import matplotlib.pyplot as plt \n",
    "\n",
    "\"\"\"\n",
    "for finding particular  datasets in sklearn datasets  ---\n",
    "\n",
    "for  dataset in dir(datasets):\n",
    "    if 'iris' in dataset\n",
    "        data=________\n",
    "\n",
    "\"\"\"\n",
    "\n",
    "#loading required data\n",
    "digit=load_digits()\n",
    "\n",
    "digit_train,digit_text,train_target,test_target=train_test_split(digit.data,digit.target,test_size=0.1)\n",
    "\n",
    "# use of svm algo\n",
    "clf=SVC() #svm.SVC()   algo. initialisation\n",
    "\n",
    "#training algo..\n",
    "trained=clf.fit(digit_train,train_target)\n",
    "\n",
    "#prediction by algo. used \n",
    "\n",
    "#taking index value---------------\n",
    "index=int(input(\"Enter the index value to predict for prediction (<1797) : \"))\n",
    "pred=trained.predict(digit.data[index].reshape(1,64)) #reshape because returne_data will come in form  8*8 shape\n",
    "\n",
    "print(\"predicted digit is : {}\".format(pred))\n",
    "\n",
    "print(\"orignal digit is : {}\".format(digit.target[index]))\n",
    "plt.imshow(digit.images[index])\n",
    "plt.show()\n"
   ]
  },
  {
   "cell_type": "code",
   "execution_count": null,
   "metadata": {},
   "outputs": [],
   "source": []
  }
 ],
 "metadata": {
  "kernelspec": {
   "display_name": "Python 3",
   "language": "python",
   "name": "python3"
  },
  "language_info": {
   "codemirror_mode": {
    "name": "ipython",
    "version": 3
   },
   "file_extension": ".py",
   "mimetype": "text/x-python",
   "name": "python",
   "nbconvert_exporter": "python",
   "pygments_lexer": "ipython3",
   "version": "3.6.3"
  }
 },
 "nbformat": 4,
 "nbformat_minor": 2
}
