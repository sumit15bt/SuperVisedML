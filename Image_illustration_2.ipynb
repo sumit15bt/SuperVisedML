{
 "cells": [
  {
   "cell_type": "code",
   "execution_count": 4,
   "metadata": {},
   "outputs": [
    {
     "name": "stdout",
     "output_type": "stream",
     "text": [
      "(580, 500, 3)\n",
      "choose one of  the following option-\n",
      "1.to draw aline\n",
      "2.to draw a rectangle\n",
      "3.to draw a circle\n",
      "\n",
      "enter your option and have  shape of image in mind  .. 3\n",
      "enter the center and radius\n",
      "enter x coordinate of starting point40\n",
      "enter y coordinate of starting point300\n",
      "enter radius30\n",
      "Enter the blue color value for line : 0\n",
      "Enter the green color  value for line : 0\n",
      "Enter the red color value for line : 255\n",
      "Enter the font size : 4\n"
     ]
    }
   ],
   "source": [
    "import cv2\n",
    "\n",
    "img=cv2.imread(\"../boy.jpeg\")\n",
    "print(img.shape)\n",
    "instruction=\"\"\"choose one of  the following option-\n",
    "1.to draw aline\n",
    "2.to draw a rectangle\n",
    "3.to draw a circle\n",
    "\"\"\"\n",
    "print(instruction)\n",
    "option=int(input(\"enter your option and have  shape of image in mind  .. \"))\n",
    "if option==1:\n",
    "    start_x=int(input(\"enter x coordinate of starting point\"))\n",
    "    start_y=int(input(\"enter y coordinate of starting point\"))\n",
    "    endpoint_x=int(input(\"enter x coordinate of endpoint point\"))\n",
    "    endpoint_y=int(input(\"enter y coordinate of endpoint point\"))\n",
    "    blue_color=int(input(\"Enter the blue color value for line : \"))\n",
    "    green_color=int(input(\"Enter the green color  value for line : \"))\n",
    "    red_color=int(input(\"Enter the red color value for line : \"))\n",
    "    font_size=int(input(\"Enter the font size : \"))\n",
    "    cv2.line(img,(start_x,start_y),(endpoint_x,endpoint_y),(blue_color,green_color,red_color),font_size)\n",
    "elif option==2:\n",
    "    print(\"enter the diagonaled point  as asked\")\n",
    "    start_x=int(input(\"enter x coordinate of starting point\"))\n",
    "    start_y=int(input(\"enter y coordinate of starting point\"))\n",
    "    endpoint_x=int(input(\"enter x coordinate of endpoint point\"))\n",
    "    endpoint_y=int(input(\"enter y coordinate of endpoint point\"))\n",
    "    blue_color=int(input(\"Enter the blue color value for line : \"))\n",
    "    green_color=int(input(\"Enter the green color  value for line : \"))\n",
    "    red_color=int(input(\"Enter the red color value for line : \"))\n",
    "    font_size=int(input(\"Enter the font size : \"))\n",
    "    cv2.rectangle(img,(start_x,start_y),(endpoint_x,endpoint_y),(blue_color,green_color,red_color),font_size)\n",
    "elif option==3:\n",
    "    print(\"enter the center and radius\")\n",
    "    center_x=int(input(\"enter x coordinate of center point\"))\n",
    "    center_y=int(input(\"enter y coordinate of center point\"))\n",
    "    radius=int(input(\"enter radius\"))\n",
    "    blue_color=int(input(\"Enter the blue color value for line : \"))\n",
    "    green_color=int(input(\"Enter the green color  value for line : \"))\n",
    "    red_color=int(input(\"Enter the red color value for line : \"))\n",
    "    font_size=int(input(\"Enter the font size : \"))\n",
    "    cv2.circle(img,(center_x,center_y),radius,(blue_color,green_color,red_color),font_size)\n",
    "elif  option==4:\n",
    "    font_type=cv2.FONT_HERSHEY_SIMPLEX\n",
    "    x=int(input(\"Enter the x co-ordinate for the starting point of text : \"))\n",
    "    y=int(input(\"Enter the y co-ordinate for the starting point of text : \"))\n",
    "    text=input(\"Enter the text to write on image : \")\n",
    "    blue_color=int(input(\"Enter the blue color value for line : \"))\n",
    "    green_color=int(input(\"Enter the green color  value for line : \"))\n",
    "    red_color=int(input(\"Enter the red color value for line : \"))\n",
    "    font_size=int(input(\"Enter the font size : \"))\n",
    "    \n",
    "    image_with_text=cv2.putText(img,text,(x,y),font_type,font_size,(blue_color,green_color,red_color),cv2.LINE_AA)\n",
    "else :\n",
    "    print(\"wrong Input, therefore no change in image\")\n",
    "cv2.imshow(\"..Ball..\",img)\n",
    "cv2.waitKey(0)\n",
    "cv2.destroyAllWindows()"
   ]
  },
  {
   "cell_type": "code",
   "execution_count": null,
   "metadata": {},
   "outputs": [],
   "source": []
  }
 ],
 "metadata": {
  "kernelspec": {
   "display_name": "Python 3",
   "language": "python",
   "name": "python3"
  },
  "language_info": {
   "codemirror_mode": {
    "name": "ipython",
    "version": 3
   },
   "file_extension": ".py",
   "mimetype": "text/x-python",
   "name": "python",
   "nbconvert_exporter": "python",
   "pygments_lexer": "ipython3",
   "version": "3.6.3"
  }
 },
 "nbformat": 4,
 "nbformat_minor": 2
}
